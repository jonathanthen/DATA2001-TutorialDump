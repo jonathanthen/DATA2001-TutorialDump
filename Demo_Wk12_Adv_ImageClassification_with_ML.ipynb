{
 "cells": [
  {
   "cell_type": "markdown",
   "metadata": {},
   "source": [
    "# Demo Week 12 - Supervised Machine Learning for Label Prediction"
   ]
  },
  {
   "cell_type": "markdown",
   "metadata": {},
   "source": [
    "## Demo: Image Classification\n",
    "\n",
    "The following uses the built-in example dataset of scikit learn for optical recognition of handwritten digits dataset.\n",
    "\n",
    "(https://scikit-learn.org/stable/datasets/index.html)\n"
   ]
  },
  {
   "cell_type": "code",
   "execution_count": 1,
   "metadata": {},
   "outputs": [
    {
     "name": "stdout",
     "output_type": "stream",
     "text": [
      "(1797, 64)\n"
     ]
    }
   ],
   "source": [
    "import sklearn.datasets as ds\n",
    "import sklearn.model_selection as ms \n",
    "import sklearn.neighbors as nb \n",
    "\n",
    "digits = ds.load_digits()\n",
    "print(digits.data.shape)\n",
    "#digits"
   ]
  },
  {
   "cell_type": "code",
   "execution_count": 2,
   "metadata": {},
   "outputs": [
    {
     "name": "stdout",
     "output_type": "stream",
     "text": [
      ".. _digits_dataset:\n",
      "\n",
      "Optical recognition of handwritten digits dataset\n",
      "--------------------------------------------------\n",
      "\n",
      "**Data Set Characteristics:**\n",
      "\n",
      "    :Number of Instances: 5620\n",
      "    :Number of Attributes: 64\n",
      "    :Attribute Information: 8x8 image of integer pixels in the range 0..16.\n",
      "    :Missing Attribute Values: None\n",
      "    :Creator: E. Alpaydin (alpaydin '@' boun.edu.tr)\n",
      "    :Date: July; 1998\n",
      "\n",
      "This is a copy of the test set of the UCI ML hand-written digits datasets\n",
      "http://archive.ics.uci.edu/ml/datasets/Optical+Recognition+of+Handwritten+Digits\n",
      "\n",
      "The data set contains images of hand-written digits: 10 classes where\n",
      "each class refers to a digit.\n",
      "\n",
      "Preprocessing programs made available by NIST were used to extract\n",
      "normalized bitmaps of handwritten digits from a preprinted form. From a\n",
      "total of 43 people, 30 contributed to the training set and different 13\n",
      "to the test set. 32x32 bitmaps are divided into nonoverlapping blocks of\n",
      "4x4 and the number of on pixels are counted in each block. This generates\n",
      "an input matrix of 8x8 where each element is an integer in the range\n",
      "0..16. This reduces dimensionality and gives invariance to small\n",
      "distortions.\n",
      "\n",
      "For info on NIST preprocessing routines, see M. D. Garris, J. L. Blue, G.\n",
      "T. Candela, D. L. Dimmick, J. Geist, P. J. Grother, S. A. Janet, and C.\n",
      "L. Wilson, NIST Form-Based Handprint Recognition System, NISTIR 5469,\n",
      "1994.\n",
      "\n",
      ".. topic:: References\n",
      "\n",
      "  - C. Kaynak (1995) Methods of Combining Multiple Classifiers and Their\n",
      "    Applications to Handwritten Digit Recognition, MSc Thesis, Institute of\n",
      "    Graduate Studies in Science and Engineering, Bogazici University.\n",
      "  - E. Alpaydin, C. Kaynak (1998) Cascading Classifiers, Kybernetika.\n",
      "  - Ken Tang and Ponnuthurai N. Suganthan and Xi Yao and A. Kai Qin.\n",
      "    Linear dimensionalityreduction using relevance weighted LDA. School of\n",
      "    Electrical and Electronic Engineering Nanyang Technological University.\n",
      "    2005.\n",
      "  - Claudio Gentile. A New Approximate Maximal Margin Classification\n",
      "    Algorithm. NIPS. 2000.\n"
     ]
    }
   ],
   "source": [
    "print(digits.DESCR)"
   ]
  },
  {
   "cell_type": "markdown",
   "metadata": {},
   "source": [
    "Let's have a look of what is in this dataset: \n",
    " - .images[] 8x8 pixel grayscale images of handwritten digits, and \n",
    " - .target[] the corresponding known image labels."
   ]
  },
  {
   "cell_type": "code",
   "execution_count": 5,
   "metadata": {},
   "outputs": [
    {
     "data": {
      "text/plain": [
       "<Figure size 432x288 with 0 Axes>"
      ]
     },
     "metadata": {},
     "output_type": "display_data"
    },
    {
     "data": {
      "image/png": "[encoded data removed]",
      "text/plain": [
       "<Figure size 288x288 with 1 Axes>"
      ]
     },
     "metadata": {
      "needs_background": "light"
     },
     "output_type": "display_data"
    },
    {
     "name": "stdout",
     "output_type": "stream",
     "text": [
      "2\n"
     ]
    }
   ],
   "source": [
    "%matplotlib inline\n",
    "import matplotlib.pyplot as plt \n",
    "plt.gray() \n",
    "plt.matshow(digits.images[340]) \n",
    "plt.show() \n",
    "print(digits.target[340])"
   ]
  },
  {
   "cell_type": "markdown",
   "metadata": {},
   "source": [
    "As a first step to train a classifier for images of hand-written digits, we need to split our dataset into a training and a testing set; we use 25% of the data for the test dataset. "
   ]
  },
  {
   "cell_type": "code",
   "execution_count": 8,
   "metadata": {},
   "outputs": [
    {
     "data": {
      "text/plain": [
       "array([[ 0.,  0.,  7., ...,  8.,  0.,  0.],\n",
       "       [ 0.,  0.,  3., ..., 14.,  7.,  0.],\n",
       "       [ 0.,  0., 10., ..., 15.,  4.,  0.],\n",
       "       ...,\n",
       "       [ 0.,  0.,  0., ...,  1.,  0.,  0.],\n",
       "       [ 0.,  2., 15., ..., 16., 11.,  0.],\n",
       "       [ 0.,  0.,  0., ...,  0.,  0.,  0.]])"
      ]
     },
     "execution_count": 8,
     "metadata": {},
     "output_type": "execute_result"
    }
   ],
   "source": [
    "import sklearn.model_selection as ms \n",
    "import sklearn.neighbors as nb \n",
    "\n",
    "# Split data into train and test subsets\n",
    "x = digits.data\n",
    "y = digits.target\n",
    "(X_train, X_test, y_train, y_test) = ms.train_test_split(x, y, test_size=.25) \n",
    "\n",
    "X_train"
   ]
  },
  {
   "cell_type": "code",
   "execution_count": 9,
   "metadata": {},
   "outputs": [
    {
     "data": {
      "text/plain": [
       "array([5, 6, 3, ..., 7, 2, 6])"
      ]
     },
     "execution_count": 9,
     "metadata": {},
     "output_type": "execute_result"
    }
   ],
   "source": [
    "y_train"
   ]
  },
  {
   "cell_type": "markdown",
   "metadata": {},
   "source": [
    "Next we train a k-neighors-neighbor classifier using the training dataset."
   ]
  },
  {
   "cell_type": "code",
   "execution_count": 10,
   "metadata": {},
   "outputs": [
    {
     "data": {
      "text/plain": [
       "KNeighborsClassifier(algorithm='auto', leaf_size=30, metric='minkowski',\n",
       "           metric_params=None, n_jobs=None, n_neighbors=5, p=2,\n",
       "           weights='uniform')"
      ]
     },
     "execution_count": 10,
     "metadata": {},
     "output_type": "execute_result"
    }
   ],
   "source": [
    "kn_classifier = nb.KNeighborsClassifier() \n",
    "kn_classifier.fit(X_train, y_train)"
   ]
  },
  {
   "cell_type": "code",
   "execution_count": 11,
   "metadata": {},
   "outputs": [
    {
     "data": {
      "text/plain": [
       "array([8, 3, 2, 6, 1, 9, 7, 6, 2, 4, 2, 5, 9, 0, 2, 9, 2, 0, 7, 6, 6, 7,\n",
       "       4, 0, 9, 8, 1, 5, 9, 3, 2, 9, 5, 1, 9, 8, 3, 9, 6, 3, 0, 2, 7, 2,\n",
       "       1, 9, 7, 5, 5, 2, 6, 2, 3, 0, 2, 4, 1, 9, 0, 0, 9, 3, 8, 1, 2, 1,\n",
       "       7, 8, 1, 4, 0, 6, 4, 6, 7, 3, 6, 0, 1, 2, 7, 2, 7, 0, 1, 2, 5, 1,\n",
       "       0, 6, 4, 3, 8, 0, 7, 8, 9, 4, 9, 2, 8, 5, 0, 4, 7, 0, 7, 3, 8, 4,\n",
       "       7, 3, 7, 3, 1, 9, 4, 5, 3, 9, 4, 8, 5, 3, 3, 4, 3, 3, 8, 5, 6, 1,\n",
       "       6, 8, 6, 5, 6, 7, 3, 2, 1, 3, 0, 8, 7, 3, 5, 2, 3, 2, 9, 6, 8, 8,\n",
       "       4, 5, 0, 2, 1, 1, 5, 6, 7, 1, 7, 4, 1, 6, 7, 7, 6, 6, 0, 9, 7, 4,\n",
       "       7, 6, 5, 6, 4, 9, 4, 3, 7, 0, 0, 2, 5, 2, 7, 3, 9, 3, 3, 7, 6, 7,\n",
       "       2, 4, 1, 8, 1, 2, 6, 8, 9, 6, 3, 4, 2, 6, 3, 1, 8, 0, 5, 8, 4, 2,\n",
       "       7, 4, 2, 8, 8, 5, 4, 5, 8, 1, 6, 9, 0, 6, 1, 3, 1, 2, 3, 8, 4, 9,\n",
       "       4, 5, 4, 6, 1, 7, 7, 4, 5, 5, 0, 4, 8, 3, 5, 4, 7, 4, 3, 0, 2, 2,\n",
       "       4, 5, 7, 7, 8, 3, 0, 3, 5, 0, 3, 0, 7, 7, 5, 4, 0, 6, 5, 5, 6, 4,\n",
       "       5, 0, 1, 1, 3, 7, 2, 1, 8, 9, 2, 7, 1, 7, 3, 9, 9, 1, 3, 4, 2, 4,\n",
       "       8, 4, 5, 8, 1, 2, 5, 7, 4, 1, 3, 4, 7, 7, 3, 7, 3, 4, 6, 4, 4, 6,\n",
       "       2, 0, 3, 7, 0, 8, 9, 0, 2, 0, 7, 1, 6, 1, 4, 6, 1, 2, 7, 3, 0, 2,\n",
       "       6, 7, 3, 2, 8, 9, 9, 8, 8, 9, 4, 5, 3, 7, 0, 5, 2, 8, 5, 5, 1, 3,\n",
       "       9, 6, 4, 8, 7, 3, 4, 0, 8, 6, 4, 6, 3, 2, 5, 4, 7, 9, 7, 3, 8, 9,\n",
       "       3, 7, 7, 0, 2, 7, 9, 6, 6, 7, 9, 1, 2, 8, 3, 5, 1, 6, 0, 1, 5, 7,\n",
       "       7, 9, 7, 7, 5, 1, 5, 5, 9, 1, 7, 9, 3, 5, 4, 3, 9, 3, 0, 7, 1, 5,\n",
       "       2, 7, 0, 6, 7, 4, 2, 2, 9, 8])"
      ]
     },
     "execution_count": 11,
     "metadata": {},
     "output_type": "execute_result"
    }
   ],
   "source": [
    "predicted = kn_classifier.predict(X_test)\n",
    "predicted"
   ]
  },
  {
   "cell_type": "code",
   "execution_count": 12,
   "metadata": {},
   "outputs": [
    {
     "data": {
      "text/plain": [
       "array([8, 3, 2, 6, 1, 9, 7, 6, 2, 4, 2, 5, 9, 0, 2, 5, 2, 0, 7, 6, 6, 7,\n",
       "       4, 0, 9, 8, 1, 5, 9, 3, 2, 9, 5, 1, 9, 8, 3, 9, 6, 3, 0, 2, 7, 2,\n",
       "       1, 9, 7, 5, 5, 2, 6, 2, 3, 0, 2, 4, 1, 9, 0, 0, 9, 3, 8, 1, 2, 1,\n",
       "       7, 8, 1, 4, 0, 6, 4, 6, 7, 3, 6, 0, 1, 2, 7, 2, 7, 0, 1, 2, 5, 1,\n",
       "       0, 6, 4, 3, 8, 0, 7, 8, 9, 4, 9, 2, 8, 5, 0, 4, 7, 0, 7, 3, 8, 4,\n",
       "       7, 3, 7, 3, 1, 9, 4, 5, 3, 9, 4, 8, 5, 3, 3, 4, 3, 3, 8, 5, 6, 1,\n",
       "       6, 8, 6, 5, 6, 7, 3, 2, 1, 3, 0, 8, 7, 3, 5, 2, 3, 2, 9, 6, 8, 8,\n",
       "       4, 5, 0, 2, 1, 8, 5, 6, 7, 1, 7, 4, 1, 6, 7, 7, 6, 6, 0, 9, 7, 4,\n",
       "       7, 6, 5, 6, 4, 9, 4, 3, 7, 0, 0, 2, 5, 2, 7, 3, 9, 8, 3, 7, 6, 7,\n",
       "       2, 4, 1, 8, 1, 2, 6, 8, 9, 6, 3, 4, 2, 6, 3, 1, 8, 0, 5, 8, 4, 2,\n",
       "       7, 4, 2, 8, 8, 5, 4, 5, 8, 1, 6, 9, 0, 6, 1, 3, 1, 2, 9, 3, 4, 9,\n",
       "       4, 5, 4, 6, 1, 7, 7, 4, 5, 5, 0, 4, 8, 3, 5, 4, 7, 4, 3, 0, 2, 2,\n",
       "       4, 5, 7, 7, 8, 3, 0, 3, 5, 0, 3, 0, 7, 7, 5, 4, 0, 6, 5, 5, 6, 4,\n",
       "       5, 0, 1, 1, 3, 7, 2, 1, 8, 9, 2, 7, 1, 7, 9, 9, 9, 1, 3, 4, 2, 4,\n",
       "       8, 4, 5, 8, 1, 2, 9, 7, 4, 1, 3, 4, 7, 7, 3, 7, 3, 4, 6, 4, 4, 6,\n",
       "       2, 0, 3, 7, 0, 8, 9, 0, 2, 0, 7, 1, 6, 1, 4, 6, 1, 2, 7, 3, 0, 2,\n",
       "       6, 7, 3, 2, 8, 9, 9, 8, 8, 9, 4, 5, 3, 7, 0, 5, 2, 8, 5, 5, 1, 3,\n",
       "       9, 6, 4, 8, 7, 3, 4, 0, 8, 6, 4, 6, 3, 2, 5, 4, 7, 9, 7, 3, 8, 9,\n",
       "       3, 7, 7, 0, 2, 7, 9, 6, 6, 7, 9, 1, 2, 8, 3, 5, 1, 6, 0, 1, 5, 7,\n",
       "       7, 9, 7, 3, 5, 1, 5, 5, 9, 1, 7, 9, 3, 5, 4, 3, 9, 3, 0, 7, 1, 5,\n",
       "       2, 7, 0, 6, 7, 4, 2, 2, 9, 8])"
      ]
     },
     "execution_count": 12,
     "metadata": {},
     "output_type": "execute_result"
    }
   ],
   "source": [
    "y_test"
   ]
  },
  {
   "cell_type": "markdown",
   "metadata": {},
   "source": [
    "How well does this classifier do?\n",
    "\n",
    "Let's check the classification_report of the scikit learn library for our trained classifier:"
   ]
  },
  {
   "cell_type": "code",
   "execution_count": 13,
   "metadata": {},
   "outputs": [
    {
     "name": "stdout",
     "output_type": "stream",
     "text": [
      "Classification report for classifier KNeighborsClassifier(algorithm='auto', leaf_size=30, metric='minkowski',\n",
      "           metric_params=None, n_jobs=None, n_neighbors=5, p=2,\n",
      "           weights='uniform'):\n",
      "              precision    recall  f1-score   support\n",
      "\n",
      "           0       1.00      1.00      1.00        39\n",
      "           1       0.98      1.00      0.99        41\n",
      "           2       1.00      1.00      1.00        46\n",
      "           3       0.94      0.96      0.95        51\n",
      "           4       1.00      1.00      1.00        48\n",
      "           5       0.98      0.98      0.98        43\n",
      "           6       1.00      1.00      1.00        42\n",
      "           7       0.98      1.00      0.99        60\n",
      "           8       0.97      0.95      0.96        39\n",
      "           9       0.97      0.93      0.95        41\n",
      "\n",
      "   micro avg       0.98      0.98      0.98       450\n",
      "   macro avg       0.98      0.98      0.98       450\n",
      "weighted avg       0.98      0.98      0.98       450\n",
      "\n",
      "\n"
     ]
    }
   ],
   "source": [
    "from sklearn import metrics\n",
    "print(\"Classification report for classifier %s:\\n%s\\n\"\n",
    "      % (kn_classifier, metrics.classification_report(y_test, predicted)))\n"
   ]
  },
  {
   "cell_type": "markdown",
   "metadata": {},
   "source": [
    "https://scikit-learn.org/0.20/modules/generated/sklearn.metrics.classification_report.html"
   ]
  },
  {
   "cell_type": "markdown",
   "metadata": {},
   "source": [
    "# End of Demo"
   ]
  },
  {
   "cell_type": "code",
   "execution_count": null,
   "metadata": {},
   "outputs": [],
   "source": []
  }
 ],
 "metadata": {
  "kernelspec": {
   "display_name": "Python 3",
   "language": "python",
   "name": "python3"
  },
  "language_info": {
   "codemirror_mode": {
    "name": "ipython",
    "version": 3
   },
   "file_extension": ".py",
   "mimetype": "text/x-python",
   "name": "python",
   "nbconvert_exporter": "python",
   "pygments_lexer": "ipython3",
   "version": "3.6.8"
  }
 },
 "nbformat": 4,
 "nbformat_minor": 2
}
