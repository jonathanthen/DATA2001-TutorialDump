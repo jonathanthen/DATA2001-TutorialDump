{
 "cells": [
  {
   "cell_type": "markdown",
   "metadata": {},
   "source": [
    "# Tutorial Wk 11: Image Data Processing\n",
    "\n",
    "## Introduction\n",
    "In this tutorial, we will have an overview look at image data analysis, in particular on how to extract regions of interests from a set of images. The following exercises are based on some DNA images captured by microscopes at a Medial Research Institute as part of a cancer treatment study.\n",
    "\n",
    "## Exercise 1: Image is a matrix of number"
   ]
  },
  {
   "cell_type": "code",
   "execution_count": 1,
   "metadata": {},
   "outputs": [],
   "source": [
    "%matplotlib inline\n",
    "import skimage\n",
    "import numpy as np;\n",
    "from matplotlib import pyplot as plt\n",
    "from skimage import io\n",
    "import os"
   ]
  },
  {
   "cell_type": "code",
   "execution_count": 2,
   "metadata": {},
   "outputs": [
    {
     "name": "stdout",
     "output_type": "stream",
     "text": [
      "<class 'numpy.ndarray'> float64 (10, 10)\n"
     ]
    },
    {
     "data": {
      "image/png": "[encoded data removed]",
      "text/plain": [
       "<Figure size 432x288 with 1 Axes>"
      ]
     },
     "metadata": {
      "needs_background": "light"
     },
     "output_type": "display_data"
    }
   ],
   "source": [
    "# A 2-D Array can be displayed as image\n",
    "rand = np.random.random([10, 10])\n",
    "print (type(rand), rand.dtype,  rand.shape)\n",
    "\n",
    "plt.imshow(rand, cmap='gray');\n"
   ]
  },
  {
   "cell_type": "code",
   "execution_count": 3,
   "metadata": {},
   "outputs": [
    {
     "data": {
      "image/png": "[encoded data removed]",
      "text/plain": [
       "<Figure size 432x288 with 1 Axes>"
      ]
     },
     "metadata": {
      "needs_background": "light"
     },
     "output_type": "display_data"
    }
   ],
   "source": [
    "# Matrix (image) values can be changed manually\n",
    "rand[0,0] = 1\n",
    "plt.imshow(rand, cmap='gray');\n"
   ]
  },
  {
   "cell_type": "markdown",
   "metadata": {},
   "source": [
    "# Excerise 2: Convert Images to Another Format\n",
    "\n",
    "For the following exercises, you need to download the **images.zip** file and unpack it to a directory where the Jupyter notebook can read it (if you are working on our School's Jupyter servers, you need to upload it to the Jupyter server too)."
   ]
  },
  {
   "cell_type": "markdown",
   "metadata": {},
   "source": [
    "Using the save() method, PIL can save images in most image file formats. Here’s an\n",
    "example that takes all image files in a list of filenames (filelist) and converts the images\n",
    "to JPEG files:"
   ]
  },
  {
   "cell_type": "code",
   "execution_count": 6,
   "metadata": {},
   "outputs": [
    {
     "name": "stderr",
     "output_type": "stream",
     "text": [
      "Lossy conversion from uint16 to uint8. Losing 8 bits of resolution. Convert image to uint8 prior to saving to suppress this warning.\n",
      "C:\\Users\\NetMo\\Anaconda3\\lib\\site-packages\\skimage\\io\\_io.py:141: UserWarning: images/untreated/dna\\1 (10).jpg is a low contrast image\n",
      "  warn('%s is a low contrast image' % fname)\n",
      "Lossy conversion from uint16 to uint8. Losing 8 bits of resolution. Convert image to uint8 prior to saving to suppress this warning.\n",
      "Lossy conversion from uint16 to uint8. Losing 8 bits of resolution. Convert image to uint8 prior to saving to suppress this warning.\n",
      "C:\\Users\\NetMo\\Anaconda3\\lib\\site-packages\\skimage\\io\\_io.py:141: UserWarning: images/untreated/dna\\1 (12).jpg is a low contrast image\n",
      "  warn('%s is a low contrast image' % fname)\n",
      "Lossy conversion from uint16 to uint8. Losing 8 bits of resolution. Convert image to uint8 prior to saving to suppress this warning.\n",
      "C:\\Users\\NetMo\\Anaconda3\\lib\\site-packages\\skimage\\io\\_io.py:141: UserWarning: images/untreated/dna\\1 (13).jpg is a low contrast image\n",
      "  warn('%s is a low contrast image' % fname)\n",
      "Lossy conversion from uint16 to uint8. Losing 8 bits of resolution. Convert image to uint8 prior to saving to suppress this warning.\n",
      "C:\\Users\\NetMo\\Anaconda3\\lib\\site-packages\\skimage\\io\\_io.py:141: UserWarning: images/untreated/dna\\1 (14).jpg is a low contrast image\n",
      "  warn('%s is a low contrast image' % fname)\n",
      "Lossy conversion from uint16 to uint8. Losing 8 bits of resolution. Convert image to uint8 prior to saving to suppress this warning.\n",
      "C:\\Users\\NetMo\\Anaconda3\\lib\\site-packages\\skimage\\io\\_io.py:141: UserWarning: images/untreated/dna\\1 (15).jpg is a low contrast image\n",
      "  warn('%s is a low contrast image' % fname)\n",
      "Lossy conversion from uint16 to uint8. Losing 8 bits of resolution. Convert image to uint8 prior to saving to suppress this warning.\n",
      "C:\\Users\\NetMo\\Anaconda3\\lib\\site-packages\\skimage\\io\\_io.py:141: UserWarning: images/untreated/dna\\1 (16).jpg is a low contrast image\n",
      "  warn('%s is a low contrast image' % fname)\n",
      "Lossy conversion from uint16 to uint8. Losing 8 bits of resolution. Convert image to uint8 prior to saving to suppress this warning.\n",
      "C:\\Users\\NetMo\\Anaconda3\\lib\\site-packages\\skimage\\io\\_io.py:141: UserWarning: images/untreated/dna\\1 (17).jpg is a low contrast image\n",
      "  warn('%s is a low contrast image' % fname)\n",
      "Lossy conversion from uint16 to uint8. Losing 8 bits of resolution. Convert image to uint8 prior to saving to suppress this warning.\n",
      "C:\\Users\\NetMo\\Anaconda3\\lib\\site-packages\\skimage\\io\\_io.py:141: UserWarning: images/untreated/dna\\1 (18).jpg is a low contrast image\n",
      "  warn('%s is a low contrast image' % fname)\n",
      "Lossy conversion from uint16 to uint8. Losing 8 bits of resolution. Convert image to uint8 prior to saving to suppress this warning.\n",
      "C:\\Users\\NetMo\\Anaconda3\\lib\\site-packages\\skimage\\io\\_io.py:141: UserWarning: images/untreated/dna\\1 (19).jpg is a low contrast image\n",
      "  warn('%s is a low contrast image' % fname)\n",
      "Lossy conversion from uint16 to uint8. Losing 8 bits of resolution. Convert image to uint8 prior to saving to suppress this warning.\n",
      "C:\\Users\\NetMo\\Anaconda3\\lib\\site-packages\\skimage\\io\\_io.py:141: UserWarning: images/untreated/dna\\1 (2).jpg is a low contrast image\n",
      "  warn('%s is a low contrast image' % fname)\n",
      "Lossy conversion from uint16 to uint8. Losing 8 bits of resolution. Convert image to uint8 prior to saving to suppress this warning.\n",
      "C:\\Users\\NetMo\\Anaconda3\\lib\\site-packages\\skimage\\io\\_io.py:141: UserWarning: images/untreated/dna\\1 (20).jpg is a low contrast image\n",
      "  warn('%s is a low contrast image' % fname)\n",
      "Lossy conversion from uint16 to uint8. Losing 8 bits of resolution. Convert image to uint8 prior to saving to suppress this warning.\n",
      "Lossy conversion from uint16 to uint8. Losing 8 bits of resolution. Convert image to uint8 prior to saving to suppress this warning.\n",
      "Lossy conversion from uint16 to uint8. Losing 8 bits of resolution. Convert image to uint8 prior to saving to suppress this warning.\n",
      "Lossy conversion from uint16 to uint8. Losing 8 bits of resolution. Convert image to uint8 prior to saving to suppress this warning.\n",
      "Lossy conversion from uint16 to uint8. Losing 8 bits of resolution. Convert image to uint8 prior to saving to suppress this warning.\n",
      "Lossy conversion from uint16 to uint8. Losing 8 bits of resolution. Convert image to uint8 prior to saving to suppress this warning.\n",
      "C:\\Users\\NetMo\\Anaconda3\\lib\\site-packages\\skimage\\io\\_io.py:141: UserWarning: images/untreated/dna\\1 (26).jpg is a low contrast image\n",
      "  warn('%s is a low contrast image' % fname)\n",
      "Lossy conversion from uint16 to uint8. Losing 8 bits of resolution. Convert image to uint8 prior to saving to suppress this warning.\n",
      "C:\\Users\\NetMo\\Anaconda3\\lib\\site-packages\\skimage\\io\\_io.py:141: UserWarning: images/untreated/dna\\1 (27).jpg is a low contrast image\n",
      "  warn('%s is a low contrast image' % fname)\n",
      "Lossy conversion from uint16 to uint8. Losing 8 bits of resolution. Convert image to uint8 prior to saving to suppress this warning.\n",
      "Lossy conversion from uint16 to uint8. Losing 8 bits of resolution. Convert image to uint8 prior to saving to suppress this warning.\n",
      "C:\\Users\\NetMo\\Anaconda3\\lib\\site-packages\\skimage\\io\\_io.py:141: UserWarning: images/untreated/dna\\1 (29).jpg is a low contrast image\n",
      "  warn('%s is a low contrast image' % fname)\n",
      "Lossy conversion from uint16 to uint8. Losing 8 bits of resolution. Convert image to uint8 prior to saving to suppress this warning.\n",
      "Lossy conversion from uint16 to uint8. Losing 8 bits of resolution. Convert image to uint8 prior to saving to suppress this warning.\n",
      "C:\\Users\\NetMo\\Anaconda3\\lib\\site-packages\\skimage\\io\\_io.py:141: UserWarning: images/untreated/dna\\1 (30).jpg is a low contrast image\n",
      "  warn('%s is a low contrast image' % fname)\n",
      "Lossy conversion from uint16 to uint8. Losing 8 bits of resolution. Convert image to uint8 prior to saving to suppress this warning.\n",
      "C:\\Users\\NetMo\\Anaconda3\\lib\\site-packages\\skimage\\io\\_io.py:141: UserWarning: images/untreated/dna\\1 (31).jpg is a low contrast image\n",
      "  warn('%s is a low contrast image' % fname)\n",
      "Lossy conversion from uint16 to uint8. Losing 8 bits of resolution. Convert image to uint8 prior to saving to suppress this warning.\n",
      "C:\\Users\\NetMo\\Anaconda3\\lib\\site-packages\\skimage\\io\\_io.py:141: UserWarning: images/untreated/dna\\1 (32).jpg is a low contrast image\n",
      "  warn('%s is a low contrast image' % fname)\n",
      "Lossy conversion from uint16 to uint8. Losing 8 bits of resolution. Convert image to uint8 prior to saving to suppress this warning.\n",
      "Lossy conversion from uint16 to uint8. Losing 8 bits of resolution. Convert image to uint8 prior to saving to suppress this warning.\n",
      "Lossy conversion from uint16 to uint8. Losing 8 bits of resolution. Convert image to uint8 prior to saving to suppress this warning.\n",
      "Lossy conversion from uint16 to uint8. Losing 8 bits of resolution. Convert image to uint8 prior to saving to suppress this warning.\n",
      "Lossy conversion from uint16 to uint8. Losing 8 bits of resolution. Convert image to uint8 prior to saving to suppress this warning.\n",
      "Lossy conversion from uint16 to uint8. Losing 8 bits of resolution. Convert image to uint8 prior to saving to suppress this warning.\n",
      "C:\\Users\\NetMo\\Anaconda3\\lib\\site-packages\\skimage\\io\\_io.py:141: UserWarning: images/untreated/dna\\1 (38).jpg is a low contrast image\n",
      "  warn('%s is a low contrast image' % fname)\n",
      "Lossy conversion from uint16 to uint8. Losing 8 bits of resolution. Convert image to uint8 prior to saving to suppress this warning.\n",
      "C:\\Users\\NetMo\\Anaconda3\\lib\\site-packages\\skimage\\io\\_io.py:141: UserWarning: images/untreated/dna\\1 (39).jpg is a low contrast image\n",
      "  warn('%s is a low contrast image' % fname)\n",
      "Lossy conversion from uint16 to uint8. Losing 8 bits of resolution. Convert image to uint8 prior to saving to suppress this warning.\n",
      "Lossy conversion from uint16 to uint8. Losing 8 bits of resolution. Convert image to uint8 prior to saving to suppress this warning.\n",
      "C:\\Users\\NetMo\\Anaconda3\\lib\\site-packages\\skimage\\io\\_io.py:141: UserWarning: images/untreated/dna\\1 (40).jpg is a low contrast image\n",
      "  warn('%s is a low contrast image' % fname)\n",
      "Lossy conversion from uint16 to uint8. Losing 8 bits of resolution. Convert image to uint8 prior to saving to suppress this warning.\n"
     ]
    },
    {
     "name": "stderr",
     "output_type": "stream",
     "text": [
      "Lossy conversion from uint16 to uint8. Losing 8 bits of resolution. Convert image to uint8 prior to saving to suppress this warning.\n",
      "Lossy conversion from uint16 to uint8. Losing 8 bits of resolution. Convert image to uint8 prior to saving to suppress this warning.\n",
      "Lossy conversion from uint16 to uint8. Losing 8 bits of resolution. Convert image to uint8 prior to saving to suppress this warning.\n",
      "Lossy conversion from uint16 to uint8. Losing 8 bits of resolution. Convert image to uint8 prior to saving to suppress this warning.\n",
      "Lossy conversion from uint16 to uint8. Losing 8 bits of resolution. Convert image to uint8 prior to saving to suppress this warning.\n",
      "Lossy conversion from uint16 to uint8. Losing 8 bits of resolution. Convert image to uint8 prior to saving to suppress this warning.\n",
      "C:\\Users\\NetMo\\Anaconda3\\lib\\site-packages\\skimage\\io\\_io.py:141: UserWarning: images/untreated/dna\\1 (47).jpg is a low contrast image\n",
      "  warn('%s is a low contrast image' % fname)\n",
      "Lossy conversion from uint16 to uint8. Losing 8 bits of resolution. Convert image to uint8 prior to saving to suppress this warning.\n",
      "C:\\Users\\NetMo\\Anaconda3\\lib\\site-packages\\skimage\\io\\_io.py:141: UserWarning: images/untreated/dna\\1 (48).jpg is a low contrast image\n",
      "  warn('%s is a low contrast image' % fname)\n",
      "Lossy conversion from uint16 to uint8. Losing 8 bits of resolution. Convert image to uint8 prior to saving to suppress this warning.\n",
      "C:\\Users\\NetMo\\Anaconda3\\lib\\site-packages\\skimage\\io\\_io.py:141: UserWarning: images/untreated/dna\\1 (49).jpg is a low contrast image\n",
      "  warn('%s is a low contrast image' % fname)\n",
      "Lossy conversion from uint16 to uint8. Losing 8 bits of resolution. Convert image to uint8 prior to saving to suppress this warning.\n",
      "Lossy conversion from uint16 to uint8. Losing 8 bits of resolution. Convert image to uint8 prior to saving to suppress this warning.\n",
      "C:\\Users\\NetMo\\Anaconda3\\lib\\site-packages\\skimage\\io\\_io.py:141: UserWarning: images/untreated/dna\\1 (50).jpg is a low contrast image\n",
      "  warn('%s is a low contrast image' % fname)\n",
      "Lossy conversion from uint16 to uint8. Losing 8 bits of resolution. Convert image to uint8 prior to saving to suppress this warning.\n",
      "C:\\Users\\NetMo\\Anaconda3\\lib\\site-packages\\skimage\\io\\_io.py:141: UserWarning: images/untreated/dna\\1 (6).jpg is a low contrast image\n",
      "  warn('%s is a low contrast image' % fname)\n",
      "Lossy conversion from uint16 to uint8. Losing 8 bits of resolution. Convert image to uint8 prior to saving to suppress this warning.\n",
      "C:\\Users\\NetMo\\Anaconda3\\lib\\site-packages\\skimage\\io\\_io.py:141: UserWarning: images/untreated/dna\\1 (7).jpg is a low contrast image\n",
      "  warn('%s is a low contrast image' % fname)\n",
      "Lossy conversion from uint16 to uint8. Losing 8 bits of resolution. Convert image to uint8 prior to saving to suppress this warning.\n",
      "C:\\Users\\NetMo\\Anaconda3\\lib\\site-packages\\skimage\\io\\_io.py:141: UserWarning: images/untreated/dna\\1 (8).jpg is a low contrast image\n",
      "  warn('%s is a low contrast image' % fname)\n",
      "Lossy conversion from uint16 to uint8. Losing 8 bits of resolution. Convert image to uint8 prior to saving to suppress this warning.\n",
      "C:\\Users\\NetMo\\Anaconda3\\lib\\site-packages\\skimage\\io\\_io.py:141: UserWarning: images/untreated/dna\\1 (9).jpg is a low contrast image\n",
      "  warn('%s is a low contrast image' % fname)\n",
      "Lossy conversion from uint16 to uint8. Losing 8 bits of resolution. Convert image to uint8 prior to saving to suppress this warning.\n"
     ]
    }
   ],
   "source": [
    "from PIL import Image\n",
    "import os\n",
    "\n",
    "def get_imlist(path):\n",
    "# Returns a list of filenames for all tif images in a directory. \n",
    "    return [os.path.join(path,f) for f in os.listdir(path) if f.endswith('.tif')]\n",
    "\n",
    "\n",
    "filelist = get_imlist(\"images/untreated/dna\")\n",
    "for infile in filelist:\n",
    "    outfile = os.path.splitext(infile)[0] + \".jpg\"\n",
    "    if infile != outfile:\n",
    "        try:\n",
    "            #Image.open(infile).save(outfile)\n",
    "            inputimage = io.imread(infile)\n",
    "            io.imsave(outfile, inputimage)\n",
    "        except IOError:\n",
    "            print (\"cannot convert\", infile)\n",
    "        "
   ]
  },
  {
   "cell_type": "markdown",
   "metadata": {},
   "source": [
    "# Excercise 3: Extracting ROI using thresholding\n",
    "\n",
    "## Histograms\n",
    "\n",
    "Sometimes you want to examining a specific data range, enhance the contrast in your image, or expand the contrast in a particular region while sacrificing the detail in colors that don’t vary much, or don’t matter. A good tool to find interesting regions is the histogram. To create a histogram of our image data, we use the hist() function. Histograms can also be very useful in working out global thresholding."
   ]
  },
  {
   "cell_type": "code",
   "execution_count": 4,
   "metadata": {},
   "outputs": [
    {
     "name": "stdout",
     "output_type": "stream",
     "text": [
      "<class 'numpy.ndarray'> uint16 (1024, 1024)\n"
     ]
    },
    {
     "data": {
      "image/png": "[encoded data removed]",
      "text/plain": [
       "<Figure size 432x288 with 1 Axes>"
      ]
     },
     "metadata": {
      "needs_background": "light"
     },
     "output_type": "display_data"
    }
   ],
   "source": [
    "#Histograms\n",
    "dna = io.imread(\"images/untreated/dna/1 (1).tif\")\n",
    "print (type(dna), dna.dtype,  dna.shape)\n",
    "\n",
    "plt.imshow(dna, cmap='gray');"
   ]
  },
  {
   "cell_type": "code",
   "execution_count": 5,
   "metadata": {},
   "outputs": [
    {
     "data": {
      "text/plain": [
       "(array([1.7000e+01, 1.2000e+02, 3.7700e+02, 1.2650e+03, 4.2360e+03,\n",
       "        1.1250e+04, 2.1278e+04, 3.6513e+04, 4.7303e+04, 4.9182e+04,\n",
       "        5.1747e+04, 5.1158e+04, 4.6449e+04, 4.5563e+04, 4.0133e+04,\n",
       "        3.3209e+04, 3.1493e+04, 2.8564e+04, 2.5735e+04, 2.5530e+04,\n",
       "        2.4896e+04, 2.2674e+04, 2.3265e+04, 2.2238e+04, 1.9533e+04,\n",
       "        1.9426e+04, 1.8343e+04, 1.5979e+04, 1.5798e+04, 1.4211e+04,\n",
       "        1.2242e+04, 1.1458e+04, 1.0277e+04, 8.8070e+03, 8.7530e+03,\n",
       "        8.1940e+03, 7.2890e+03, 7.5960e+03, 7.7510e+03, 7.2400e+03,\n",
       "        7.6470e+03, 7.8130e+03, 7.4780e+03, 7.7890e+03, 7.7060e+03,\n",
       "        7.1880e+03, 7.2010e+03, 6.5960e+03, 5.8730e+03, 5.8630e+03,\n",
       "        5.3010e+03, 4.8620e+03, 4.5750e+03, 4.3550e+03, 3.7030e+03,\n",
       "        3.4880e+03, 3.2610e+03, 3.0690e+03, 2.9830e+03, 2.9530e+03,\n",
       "        2.6500e+03, 2.8590e+03, 2.8160e+03, 2.6960e+03, 2.8480e+03,\n",
       "        2.9620e+03, 2.7700e+03, 2.8940e+03, 2.8710e+03, 2.4740e+03,\n",
       "        2.5800e+03, 2.5100e+03, 2.3050e+03, 2.2800e+03, 2.1700e+03,\n",
       "        1.8790e+03, 1.8780e+03, 1.6950e+03, 1.5080e+03, 1.3850e+03,\n",
       "        1.3040e+03, 1.0530e+03, 1.0190e+03, 9.2800e+02, 7.6900e+02,\n",
       "        7.3800e+02, 6.6900e+02, 5.5600e+02, 5.6700e+02, 4.7900e+02,\n",
       "        4.3400e+02, 4.2300e+02, 3.7500e+02, 3.5300e+02, 3.2200e+02,\n",
       "        3.1800e+02, 2.5700e+02, 2.7200e+02, 2.5900e+02, 2.2500e+02,\n",
       "        2.3500e+02, 2.3700e+02, 2.2700e+02, 2.1000e+02, 2.3000e+02,\n",
       "        2.2800e+02, 2.3500e+02, 2.2500e+02, 2.2200e+02, 2.4100e+02,\n",
       "        2.2800e+02, 2.2500e+02, 2.0300e+02, 2.2400e+02, 2.2400e+02,\n",
       "        2.3900e+02, 2.5900e+02, 2.2300e+02, 2.4600e+02, 2.4500e+02,\n",
       "        2.0500e+02, 2.9400e+02, 2.6700e+02, 2.4200e+02, 2.3800e+02,\n",
       "        2.5600e+02, 2.3200e+02, 2.5700e+02, 2.8400e+02, 2.6400e+02,\n",
       "        2.7600e+02, 2.5000e+02, 2.6400e+02, 2.8000e+02, 2.8900e+02,\n",
       "        2.8800e+02, 2.9000e+02, 3.0000e+02, 3.0300e+02, 3.0400e+02,\n",
       "        3.0200e+02, 2.9900e+02, 3.0100e+02, 3.3800e+02, 2.9400e+02,\n",
       "        3.1100e+02, 3.1200e+02, 2.9900e+02, 3.3500e+02, 3.3800e+02,\n",
       "        3.1100e+02, 3.1500e+02, 3.4200e+02, 3.5900e+02, 3.3100e+02,\n",
       "        3.9000e+02, 3.2100e+02, 3.9200e+02, 3.7600e+02, 3.7200e+02,\n",
       "        3.7100e+02, 3.7900e+02, 3.3400e+02, 3.8100e+02, 3.5200e+02,\n",
       "        3.3300e+02, 4.0600e+02, 3.9100e+02, 4.0500e+02, 3.8100e+02,\n",
       "        3.9300e+02, 3.9800e+02, 4.3500e+02, 4.6100e+02, 3.8400e+02,\n",
       "        4.4100e+02, 5.1300e+02, 5.1700e+02, 5.3200e+02, 5.1900e+02,\n",
       "        4.8400e+02, 5.4400e+02, 5.6000e+02, 5.2800e+02, 6.1900e+02,\n",
       "        5.7500e+02, 5.3200e+02, 5.7600e+02, 5.2900e+02, 5.3000e+02,\n",
       "        5.4500e+02, 5.1200e+02, 5.0300e+02, 5.5600e+02, 4.9000e+02,\n",
       "        4.4100e+02, 5.4100e+02, 4.5900e+02, 4.2400e+02, 4.1500e+02,\n",
       "        4.4800e+02, 3.8400e+02, 3.9600e+02, 3.6700e+02, 3.0000e+02,\n",
       "        3.5100e+02, 3.8500e+02, 2.8800e+02, 2.6700e+02, 3.3000e+02,\n",
       "        2.6700e+02, 2.4800e+02, 2.6600e+02, 2.4400e+02, 2.5500e+02,\n",
       "        2.2300e+02, 1.8100e+02, 1.9300e+02, 1.7700e+02, 1.3900e+02,\n",
       "        1.6500e+02, 1.3100e+02, 1.2500e+02, 1.2500e+02, 1.3800e+02,\n",
       "        7.8000e+01, 1.0300e+02, 7.6000e+01, 6.5000e+01, 5.9000e+01,\n",
       "        5.7000e+01, 3.9000e+01, 4.0000e+01, 4.6000e+01, 2.3000e+01,\n",
       "        2.2000e+01, 1.2000e+01, 1.4000e+01, 2.0000e+01, 6.0000e+00,\n",
       "        8.0000e+00, 1.0000e+01, 8.0000e+00, 7.0000e+00, 4.0000e+00,\n",
       "        7.0000e+00, 4.0000e+00, 3.0000e+00, 3.0000e+00, 0.0000e+00,\n",
       "        2.0000e+00, 0.0000e+00, 2.0000e+00, 1.0000e+00, 1.0000e+00,\n",
       "        1.0000e+00]),\n",
       " array([ 107.        ,  124.66796875,  142.3359375 ,  160.00390625,\n",
       "         177.671875  ,  195.33984375,  213.0078125 ,  230.67578125,\n",
       "         248.34375   ,  266.01171875,  283.6796875 ,  301.34765625,\n",
       "         319.015625  ,  336.68359375,  354.3515625 ,  372.01953125,\n",
       "         389.6875    ,  407.35546875,  425.0234375 ,  442.69140625,\n",
       "         460.359375  ,  478.02734375,  495.6953125 ,  513.36328125,\n",
       "         531.03125   ,  548.69921875,  566.3671875 ,  584.03515625,\n",
       "         601.703125  ,  619.37109375,  637.0390625 ,  654.70703125,\n",
       "         672.375     ,  690.04296875,  707.7109375 ,  725.37890625,\n",
       "         743.046875  ,  760.71484375,  778.3828125 ,  796.05078125,\n",
       "         813.71875   ,  831.38671875,  849.0546875 ,  866.72265625,\n",
       "         884.390625  ,  902.05859375,  919.7265625 ,  937.39453125,\n",
       "         955.0625    ,  972.73046875,  990.3984375 , 1008.06640625,\n",
       "        1025.734375  , 1043.40234375, 1061.0703125 , 1078.73828125,\n",
       "        1096.40625   , 1114.07421875, 1131.7421875 , 1149.41015625,\n",
       "        1167.078125  , 1184.74609375, 1202.4140625 , 1220.08203125,\n",
       "        1237.75      , 1255.41796875, 1273.0859375 , 1290.75390625,\n",
       "        1308.421875  , 1326.08984375, 1343.7578125 , 1361.42578125,\n",
       "        1379.09375   , 1396.76171875, 1414.4296875 , 1432.09765625,\n",
       "        1449.765625  , 1467.43359375, 1485.1015625 , 1502.76953125,\n",
       "        1520.4375    , 1538.10546875, 1555.7734375 , 1573.44140625,\n",
       "        1591.109375  , 1608.77734375, 1626.4453125 , 1644.11328125,\n",
       "        1661.78125   , 1679.44921875, 1697.1171875 , 1714.78515625,\n",
       "        1732.453125  , 1750.12109375, 1767.7890625 , 1785.45703125,\n",
       "        1803.125     , 1820.79296875, 1838.4609375 , 1856.12890625,\n",
       "        1873.796875  , 1891.46484375, 1909.1328125 , 1926.80078125,\n",
       "        1944.46875   , 1962.13671875, 1979.8046875 , 1997.47265625,\n",
       "        2015.140625  , 2032.80859375, 2050.4765625 , 2068.14453125,\n",
       "        2085.8125    , 2103.48046875, 2121.1484375 , 2138.81640625,\n",
       "        2156.484375  , 2174.15234375, 2191.8203125 , 2209.48828125,\n",
       "        2227.15625   , 2244.82421875, 2262.4921875 , 2280.16015625,\n",
       "        2297.828125  , 2315.49609375, 2333.1640625 , 2350.83203125,\n",
       "        2368.5       , 2386.16796875, 2403.8359375 , 2421.50390625,\n",
       "        2439.171875  , 2456.83984375, 2474.5078125 , 2492.17578125,\n",
       "        2509.84375   , 2527.51171875, 2545.1796875 , 2562.84765625,\n",
       "        2580.515625  , 2598.18359375, 2615.8515625 , 2633.51953125,\n",
       "        2651.1875    , 2668.85546875, 2686.5234375 , 2704.19140625,\n",
       "        2721.859375  , 2739.52734375, 2757.1953125 , 2774.86328125,\n",
       "        2792.53125   , 2810.19921875, 2827.8671875 , 2845.53515625,\n",
       "        2863.203125  , 2880.87109375, 2898.5390625 , 2916.20703125,\n",
       "        2933.875     , 2951.54296875, 2969.2109375 , 2986.87890625,\n",
       "        3004.546875  , 3022.21484375, 3039.8828125 , 3057.55078125,\n",
       "        3075.21875   , 3092.88671875, 3110.5546875 , 3128.22265625,\n",
       "        3145.890625  , 3163.55859375, 3181.2265625 , 3198.89453125,\n",
       "        3216.5625    , 3234.23046875, 3251.8984375 , 3269.56640625,\n",
       "        3287.234375  , 3304.90234375, 3322.5703125 , 3340.23828125,\n",
       "        3357.90625   , 3375.57421875, 3393.2421875 , 3410.91015625,\n",
       "        3428.578125  , 3446.24609375, 3463.9140625 , 3481.58203125,\n",
       "        3499.25      , 3516.91796875, 3534.5859375 , 3552.25390625,\n",
       "        3569.921875  , 3587.58984375, 3605.2578125 , 3622.92578125,\n",
       "        3640.59375   , 3658.26171875, 3675.9296875 , 3693.59765625,\n",
       "        3711.265625  , 3728.93359375, 3746.6015625 , 3764.26953125,\n",
       "        3781.9375    , 3799.60546875, 3817.2734375 , 3834.94140625,\n",
       "        3852.609375  , 3870.27734375, 3887.9453125 , 3905.61328125,\n",
       "        3923.28125   , 3940.94921875, 3958.6171875 , 3976.28515625,\n",
       "        3993.953125  , 4011.62109375, 4029.2890625 , 4046.95703125,\n",
       "        4064.625     , 4082.29296875, 4099.9609375 , 4117.62890625,\n",
       "        4135.296875  , 4152.96484375, 4170.6328125 , 4188.30078125,\n",
       "        4205.96875   , 4223.63671875, 4241.3046875 , 4258.97265625,\n",
       "        4276.640625  , 4294.30859375, 4311.9765625 , 4329.64453125,\n",
       "        4347.3125    , 4364.98046875, 4382.6484375 , 4400.31640625,\n",
       "        4417.984375  , 4435.65234375, 4453.3203125 , 4470.98828125,\n",
       "        4488.65625   , 4506.32421875, 4523.9921875 , 4541.66015625,\n",
       "        4559.328125  , 4576.99609375, 4594.6640625 , 4612.33203125,\n",
       "        4630.        ]),\n",
       " <a list of 256 Patch objects>)"
      ]
     },
     "execution_count": 5,
     "metadata": {},
     "output_type": "execute_result"
    },
    {
     "data": {
      "image/png": "[encoded data removed]",
      "text/plain": [
       "<Figure size 432x288 with 1 Axes>"
      ]
     },
     "metadata": {
      "needs_background": "light"
     },
     "output_type": "display_data"
    }
   ],
   "source": [
    "plt.hist(dna.ravel(), bins=256,  fc='k', ec='k')\n"
   ]
  },
  {
   "cell_type": "markdown",
   "metadata": {},
   "source": [
    "# Thresholding\n",
    "Thresholding is the simplest method of image segmentation."
   ]
  },
  {
   "cell_type": "code",
   "execution_count": null,
   "metadata": {},
   "outputs": [],
   "source": [
    "plt.imshow(dna, cmap='gray');"
   ]
  },
  {
   "cell_type": "code",
   "execution_count": null,
   "metadata": {},
   "outputs": [],
   "source": [
    "dna_thresholding = 1*(dna>2500)  # change thresholding number to see the effect\n",
    "plt.imshow(dna_thresholding, cmap='gray');\n",
    "print(dna)"
   ]
  },
  {
   "cell_type": "code",
   "execution_count": null,
   "metadata": {},
   "outputs": [],
   "source": [
    "# Thresholding algorithms\n",
    "from skimage.filters import try_all_threshold\n",
    "fig, ax = try_all_threshold(dna, figsize=(10, 8), verbose=False)\n",
    "plt.show()"
   ]
  },
  {
   "cell_type": "markdown",
   "metadata": {
    "collapsed": true
   },
   "source": [
    "From above visualisation it's clear to us that Isodata, Minimum and Otsu thresholding working well to setment DNA. Lets us Otsu."
   ]
  },
  {
   "cell_type": "code",
   "execution_count": null,
   "metadata": {},
   "outputs": [],
   "source": [
    "from skimage.filters import threshold_otsu, threshold_local\n",
    "global_thresh = threshold_otsu(dna)\n",
    "dna_bw = dna > global_thresh\n",
    "plt.imshow(dna_bw, cmap='gray')"
   ]
  },
  {
   "cell_type": "code",
   "execution_count": null,
   "metadata": {},
   "outputs": [],
   "source": [
    "from skimage import morphology\n",
    "\n",
    "dna_bw = morphology.remove_small_objects(dna_bw, 25000)\n",
    "\n",
    "plt.imshow(dna_bw, cmap='gray')"
   ]
  },
  {
   "cell_type": "code",
   "execution_count": null,
   "metadata": {},
   "outputs": [],
   "source": [
    "# To extract cleaned DNA\n",
    "dna_clean = dna\n",
    "dna_clean[~dna_bw]=0\n",
    "plt.imshow(dna_clean, cmap='gray')"
   ]
  },
  {
   "cell_type": "markdown",
   "metadata": {},
   "source": [
    "## Measuring the ROI (Region of Interest)\n",
    "Let's do some measurements"
   ]
  },
  {
   "cell_type": "code",
   "execution_count": null,
   "metadata": {},
   "outputs": [],
   "source": [
    "# What's the size of DNA (area), = How many pixels are white\n",
    "# skimage.measure.perimeter(image, neighbourhood=4)\n",
    "import skimage.measure\n",
    "dna_peri = perimeter(dna_bw, neighbourhood=4)      # try neighbourhood=8, note difference in the measurement reported\n",
    "print(dna_peri)"
   ]
  },
  {
   "cell_type": "code",
   "execution_count": null,
   "metadata": {},
   "outputs": [],
   "source": [
    "\n",
    "dna_bw_label = skimage.measure.label(dna_bw)\n",
    "dna_props = skimage.measure.regionprops(label_image=dna_bw_label, intensity_image=dna)\n",
    "dna_mean_area = dna_props[0].area\n",
    "dna_perimeter = dna_props[0].perimeter\n",
    "dna_mean_intensity = dna_props[0].mean_intensity\n",
    "print(dna_mean_area, dna_mean_intensity, dna_perimeter)\n"
   ]
  },
  {
   "cell_type": "code",
   "execution_count": null,
   "metadata": {},
   "outputs": [],
   "source": [
    "# To whatelse can be extracted from dna_props\n",
    "for prop in dna_props[0]:  # since we know there is only one object so the index is 0\n",
    "    print(prop)"
   ]
  },
  {
   "cell_type": "markdown",
   "metadata": {
    "collapsed": true
   },
   "source": [
    "# Exercise 4: Quantifying ROI and saving to CSV\n",
    "## Process all images in a folder\n",
    "Put above code in a function and process all images\n"
   ]
  },
  {
   "cell_type": "code",
   "execution_count": null,
   "metadata": {},
   "outputs": [],
   "source": [
    "import csv\n",
    "from skimage.filters import threshold_otsu\n",
    "from skimage import morphology\n",
    "def processimages(infile, filename2save):\n",
    "    \n",
    "    dna = io.imread(infile)\n",
    "    global_thresh = threshold_otsu(dna)\n",
    "    dna_bw = dna > global_thresh\n",
    "    dna_bw = morphology.remove_small_objects(dna_bw, 25000)\n",
    "    \n",
    "    dna_bw_label = skimage.measure.label(dna_bw)\n",
    "    dna_props = skimage.measure.regionprops(label_image=dna_bw_label, intensity_image=dna)\n",
    "    \n",
    "    dna_area = dna_props[0].area\n",
    "    dna_perimeter = dna_props[0].perimeter\n",
    "    dna_mean_intensity = dna_props[0].mean_intensity\n",
    "\n",
    "    with open(filename2save, \"a\", newline='') as csvfile: \n",
    "        writer = csv.writer(csvfile)\n",
    "        writer.writerow([infile, dna_area, dna_perimeter, dna_mean_intensity])\n",
    "    \n",
    "   # print(dna_area, dna_mean_intensity, dna_perimeter)\n",
    "\n",
    "# Process untreated dna images\n",
    "filename2save = 'untreated_dna.csv'\n",
    "with open(filename2save, \"w\", newline='') as csvfile: \n",
    "    writer = csv.writer(csvfile)\n",
    "    writer.writerow(['fname', 'area', 'perimeter', 'mean_intensity'])\n",
    "\n",
    "filelist = get_imlist(\"images/untreated/dna\")\n",
    "for infile in filelist:\n",
    "    try:\n",
    "        processimages(infile, filename2save)        \n",
    "    except IOError:\n",
    "        print (\"An error occured: \", infile)\n",
    "        \n",
    "print(\"processing completed.\")"
   ]
  },
  {
   "cell_type": "code",
   "execution_count": null,
   "metadata": {},
   "outputs": [],
   "source": [
    "# Process treated dna images\n",
    "filename2save = 'treated_dna.csv'\n",
    "with open(filename2save, \"w\", newline='') as csvfile: \n",
    "    writer = csv.writer(csvfile)\n",
    "    writer.writerow(['fname', 'area', 'perimeter', 'mean_intensity'])\n",
    "    \n",
    "filelist = get_imlist(\"images/treated/dna\")\n",
    "for infile in filelist:\n",
    "    try:\n",
    "        processimages(infile, filename2save)\n",
    "    except IOError:\n",
    "        print (\"An error occured: \", infile)\n",
    "print(\"processing completed.\")        "
   ]
  },
  {
   "cell_type": "code",
   "execution_count": null,
   "metadata": {},
   "outputs": [],
   "source": [
    "# print(len(filelist))"
   ]
  },
  {
   "cell_type": "markdown",
   "metadata": {},
   "source": [
    "## Exploring DNA data"
   ]
  },
  {
   "cell_type": "code",
   "execution_count": null,
   "metadata": {},
   "outputs": [],
   "source": [
    "dna_untreated_data = list(csv.DictReader(open('untreated_dna.csv')))\n",
    "dna_treated_data = list(csv.DictReader(open('treated_dna.csv')))\n",
    "print(dna_treated_data[0])\n",
    "print(dna_untreated_data[0])"
   ]
  },
  {
   "cell_type": "code",
   "execution_count": null,
   "metadata": {},
   "outputs": [],
   "source": [
    "len(dna_treated_data)"
   ]
  },
  {
   "cell_type": "code",
   "execution_count": null,
   "metadata": {},
   "outputs": [],
   "source": [
    "import numpy as np\n",
    "  \n",
    "# dna_untreated_area = np.array(dna_untreated_area).astype(np.float)\n",
    "dna_untreated_area = [row['area'] for row in dna_untreated_data]\n",
    "dna_treated_area = [row['area'] for row in dna_treated_data]\n",
    "dna_untreated_area = np.array(dna_untreated_area).astype(np.float)\n",
    "dna_treated_area = np.array(dna_treated_area).astype(np.float)\n",
    "\n",
    "# print(dna_untreated_area)"
   ]
  },
  {
   "cell_type": "code",
   "execution_count": null,
   "metadata": {},
   "outputs": [],
   "source": [
    "plt.boxplot([dna_untreated_area, dna_treated_area], \n",
    "            vert=False, notch=True, flierprops={'marker':'.'})\n",
    "#plt.axis([40000,44000,55000,60000])\n",
    "plt.yticks([1,2], ['Untreated DNA', 'Treated DNA'])\n",
    "plt.xlabel('Area')\n",
    "plt.title('Untreated vs Treated Area of DNA')\n",
    "plt.show()"
   ]
  },
  {
   "cell_type": "code",
   "execution_count": null,
   "metadata": {},
   "outputs": [],
   "source": []
  }
 ],
 "metadata": {
  "kernelspec": {
   "display_name": "Python 3",
   "language": "python",
   "name": "python3"
  },
  "language_info": {
   "codemirror_mode": {
    "name": "ipython",
    "version": 3
   },
   "file_extension": ".py",
   "mimetype": "text/x-python",
   "name": "python",
   "nbconvert_exporter": "python",
   "pygments_lexer": "ipython3",
   "version": "3.7.4"
  }
 },
 "nbformat": 4,
 "nbformat_minor": 1
}
